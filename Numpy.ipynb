{
  "nbformat": 4,
  "nbformat_minor": 0,
  "metadata": {
    "colab": {
      "name": "Numpy.ipynb",
      "provenance": [],
      "collapsed_sections": [],
      "authorship_tag": "ABX9TyPj3DXJ7GFh/9dLB/RTOQ7F",
      "include_colab_link": true
    },
    "kernelspec": {
      "name": "python3",
      "display_name": "Python 3"
    },
    "language_info": {
      "name": "python"
    }
  },
  "cells": [
    {
      "cell_type": "markdown",
      "metadata": {
        "id": "view-in-github",
        "colab_type": "text"
      },
      "source": [
        "<a href=\"https://colab.research.google.com/github/CodeAbsolute/machine_learning-data_science/blob/main/Numpy.ipynb\" target=\"_parent\"><img src=\"https://colab.research.google.com/assets/colab-badge.svg\" alt=\"Open In Colab\"/></a>"
      ]
    },
    {
      "cell_type": "markdown",
      "source": [
        "**NUMPY TUTORIAL:**"
      ],
      "metadata": {
        "id": "eR2pPpD9HAl0"
      }
    },
    {
      "cell_type": "code",
      "execution_count": null,
      "metadata": {
        "id": "SZmb-V0LzzzM"
      },
      "outputs": [],
      "source": [
        "import numpy as np\n",
        "\n",
        "np1 = np.array([[1, 2],[3,4]])\n",
        "np2 = np.array([[4, 5],[6,7] ])\n",
        "\n",
        "# multiplying two arrays\n",
        "mnp1 = np1@np2 # @ works like matrix multiplication\n",
        "mnp2 = np1*np2 # * multiplies same index elements\n",
        "mnp3 = np.dot(np1,np2)\n",
        "mnp4 = np.multiply(np1,np2)\n",
        "\n",
        "\n",
        "print(f\"mnp1:  {mnp1}\")\n",
        "print(f\"mnp2:  {mnp2}\")\n",
        "print(f\"mnp3:  {mnp3}\")\n",
        "print(f\"mnp4:  {mnp4}\")\n"
      ]
    },
    {
      "cell_type": "code",
      "source": [
        "# get the sum of all elements in the array\n",
        "sum = np.sum(np1)\n",
        "print(\"sum: \", sum)\n",
        "\n",
        "# Adding 2 arrays\n",
        "add2arr = np.add(np1,np2)\n",
        "print(\"add2arr: \", add2arr)\n",
        "\n",
        "sum1 = np1 + np2\n",
        "print(\"sum1: \", sum1)\n"
      ],
      "metadata": {
        "id": "AknKf3VAHW27"
      },
      "execution_count": null,
      "outputs": []
    },
    {
      "cell_type": "code",
      "source": [
        "# Subtracting 2 arrays\n",
        "diff = np1 - np2\n",
        "print(\"diff: \", diff)\n",
        " \n",
        "sub2arr = np.subtract(np1,np2)\n",
        "print(\"sub2arr: \", sub2arr)\n"
      ],
      "metadata": {
        "id": "dpumScrjHbmj"
      },
      "execution_count": null,
      "outputs": []
    },
    {
      "cell_type": "code",
      "source": [
        "#divide 2 arrays\n",
        "print(\"np1/np2: \", np1/np2)\n",
        "\n",
        "div = np.divide(np1,np2)\n",
        "print(\"div: \", div)\n",
        "\n",
        "# integer division\n",
        "div = np.floor_divide(np1,np2)\n",
        "print(div)"
      ],
      "metadata": {
        "id": "32Eh495AHbyD"
      },
      "execution_count": null,
      "outputs": []
    },
    {
      "cell_type": "code",
      "source": [
        "# random normal distribution\n",
        "normal_distribution = np.random.standard_normal((3,3))\n",
        "print(\"normal_distribution: \",normal_distribution)\n",
        "\n",
        "#random uniform distribution\n",
        "uniform_distribution = np.random.uniform(1,1000,[4,3])\n",
        "print(\"uniform_distribution: \",uniform_distribution)\n",
        "\n",
        "print(np.math.sqrt(15))"
      ],
      "metadata": {
        "colab": {
          "base_uri": "https://localhost:8080/"
        },
        "id": "GQIE1GWoJpgX",
        "outputId": "e86a97e3-9d79-4732-8b0f-d93f3b49765b"
      },
      "execution_count": 14,
      "outputs": [
        {
          "output_type": "stream",
          "name": "stdout",
          "text": [
            "normal_distribution:  [[-0.24749421  1.9118735   0.61070036]\n",
            " [ 0.30218871  0.14450863  0.37981832]\n",
            " [-0.77433271 -0.03769768 -1.02157986]]\n",
            "uniform_distribution:  [[103.73386494 703.1399064   95.86466753]\n",
            " [124.38898874 158.71478574 509.32556997]\n",
            " [873.19644652 526.07494396 409.34854055]\n",
            " [845.05417981 375.43299554 133.51258989]]\n",
            "3.872983346207417\n"
          ]
        }
      ]
    },
    {
      "cell_type": "code",
      "source": [
        "#generate random float no.\n",
        "print(np.random.rand())\n",
        "\n",
        "# generate random integer no.\n",
        "print(np.random.randint(1,10000,(2,4)))"
      ],
      "metadata": {
        "colab": {
          "base_uri": "https://localhost:8080/"
        },
        "id": "N8L4ykOXLtaz",
        "outputId": "e6af8aef-7bcb-4e17-d134-97911bfece6b"
      },
      "execution_count": 22,
      "outputs": [
        {
          "output_type": "stream",
          "name": "stdout",
          "text": [
            "0.1537162632003587\n",
            "[[2506  482 6537 8780]\n",
            " [ 556 7885 8519 9960]]\n"
          ]
        }
      ]
    },
    {
      "cell_type": "code",
      "source": [
        "# Zeros & Ones\n",
        "print(\"Zeros: \", np.zeros((5,5)))\n",
        "print(\"Ones: \", np.ones((5,5)))"
      ],
      "metadata": {
        "colab": {
          "base_uri": "https://localhost:8080/"
        },
        "id": "aV2a4GzdMSkM",
        "outputId": "f7e9507b-1af5-4adf-8b03-d22c47ec930b"
      },
      "execution_count": 24,
      "outputs": [
        {
          "output_type": "stream",
          "name": "stdout",
          "text": [
            "Zeros:  [[0. 0. 0. 0. 0.]\n",
            " [0. 0. 0. 0. 0.]\n",
            " [0. 0. 0. 0. 0.]\n",
            " [0. 0. 0. 0. 0.]\n",
            " [0. 0. 0. 0. 0.]]\n",
            "Ones:  [[1. 1. 1. 1. 1.]\n",
            " [1. 1. 1. 1. 1.]\n",
            " [1. 1. 1. 1. 1.]\n",
            " [1. 1. 1. 1. 1.]\n",
            " [1. 1. 1. 1. 1.]]\n"
          ]
        }
      ]
    },
    {
      "cell_type": "code",
      "source": [
        "# Filter Arrays\n",
        "filter = np.logical_and(np1>1,np1<5) # returning a bool array with the indicies matching are true else false\n",
        "print(\"np1: \",np1)\n",
        "print(\"filter: \",filter)\n",
        "filtered_arr = np1[filter]\n",
        "print(\"filtered_arr: \",filtered_arr)"
      ],
      "metadata": {
        "id": "-F4QdMNWNdIm"
      },
      "execution_count": null,
      "outputs": []
    },
    {
      "cell_type": "code",
      "source": [
        "from numpy.lib.function_base import median\n",
        "arr = np.array([1,2,3,4,7,9,10])\n",
        "# Average / Mean\n",
        "avg = np.mean(arr)\n",
        "print(\"Mean of arr: \",avg)\n",
        "\n",
        "# Median of arr\n",
        "medi = np.median(arr)\n",
        "print(\"Median of arr: \", medi)\n",
        "\n",
        "# variance of arr\n",
        "vari = np.var(arr)\n",
        "print(\"Variance of arr: \", vari)\n",
        "\n",
        "# standard deviation of arr\n",
        "sd = np.std(arr)\n",
        "print(\"Standard Deviation of arr: \", sd)"
      ],
      "metadata": {
        "colab": {
          "base_uri": "https://localhost:8080/"
        },
        "id": "8D513coIQ2Z_",
        "outputId": "65091bda-9817-48d1-b6ee-d4292b3ed659"
      },
      "execution_count": 35,
      "outputs": [
        {
          "output_type": "stream",
          "name": "stdout",
          "text": [
            "Mean of arr:  5.142857142857143\n",
            "Median of arr:  4.0\n",
            "Variance of arr:  10.693877551020408\n",
            "Standard Deviation of arr:  3.270149469217028\n"
          ]
        }
      ]
    },
    {
      "cell_type": "code",
      "source": [
        "np_arr = np.array([[1,2,3],[4,5,6]])\n",
        "print(\"np_arr: \", np_arr)\n",
        "\n",
        "# variance\n",
        "vari = np.var(np_arr,axis=1) # axis = 1 calculates the variance for the rows \n",
        "print(\"vari with axis = 1: \", vari)\n",
        "\n",
        "vari = np.var(np_arr,axis=0) # axis = 0 calculates the variance for the columns\n",
        "print(\"vari with axis = 0: \", vari)"
      ],
      "metadata": {
        "colab": {
          "base_uri": "https://localhost:8080/"
        },
        "id": "63ISfoFqTD6K",
        "outputId": "040c02fb-cedd-434f-a7a3-592c31b5d999"
      },
      "execution_count": 40,
      "outputs": [
        {
          "output_type": "stream",
          "name": "stdout",
          "text": [
            "np_arr:  [[1 2 3]\n",
            " [4 5 6]]\n",
            "vari with axis = 1:  [0.66666667 0.66666667]\n",
            "vari with axis = 0:  [2.25 2.25 2.25]\n"
          ]
        }
      ]
    }
  ]
}